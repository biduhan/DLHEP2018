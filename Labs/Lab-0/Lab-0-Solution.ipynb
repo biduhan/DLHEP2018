{
 "cells": [
  {
   "cell_type": "markdown",
   "metadata": {},
   "source": [
    "# Applications of Deep Learning to High Energy Physics\n",
    "## Lab 0- Getting Started\n",
    "\n",
    "\n",
    "### Introduction- Jupyter Basics\n",
    "\n",
    "If you are seeing this page, you have successfully connected to our python server via ssh tunnel, logged in, and navigated to this notebook. Jupyter notebooks consist of cells that can hold text or code (usually python). This text that you are reading, was written into a text cell as simple text \"coding\" language known as mark-down. When a cell is run (either automatically at start of the notebook or manually by pressing shift-enter), the mark-down text is interpreted into nice looking text. Running a code cell will execute the code in that cell and give you the results. If you make a mistake, you can usually simply change the cell and re-run. But be aware that since you ran the mistaken cell already, whatever code that was properly executed before your mistake/error, was already executed and has therefore changed your current python environment accordingly. In some cases this situation will be problematic, and you will need to rerun the notebook from the start by pressing the \"reload\" botton (next to the \"stop\" button) above.\n",
    "\n",
    "### Python Overview\n",
    "\n",
    "Our first few labs are intended to try to force everyone to learn sufficient python, numpy, and HDF5 to perform some basic tasks. In this very first lab, we will introduce the fundamentals of python language. The following notebooks were copied from [github pages of Rajath Kumar](https://github.com/rajathkmp/Python-Lectures) from Indian Institute of Science, [License](https://creativecommons.org/licenses/by/3.0/). They provide a quick overview of basic python syntax. \n",
    "\n",
    "Carefully read through the following notebooks and familiarize yourself with python. Run the code cells (by pressing shift-enter when in the cell) in the notebooks and make sure you understand the output. \n",
    "\n",
    "   * [Variables, Operators, ...](Python-Lectures/01.ipynb)\n",
    "   * [Print Statements](Python-Lectures/02.ipynb)\n",
    "   * [Data Structures](Python-Lectures/03.ipynb)\n",
    "   * [Strings](Python-Lectures/04.ipynb)\n",
    "   * [Control Flow](Python-Lectures/05.ipynb)\n",
    "   * [Functions](Python-Lectures/06.ipynb)\n",
    "   * [Classes](Python-Lectures/07.ipynb)\n"
   ]
  },
  {
   "cell_type": "code",
   "execution_count": null,
   "metadata": {
    "collapsed": true
   },
   "outputs": [],
   "source": []
  },
  {
   "cell_type": "markdown",
   "metadata": {
    "collapsed": true
   },
   "source": [
    "### Reading Code\n",
    "\n",
    "Reading and understanding code written by others is an important part of learning to code yourself. Carefully read through these [python exercises](http://www.practicepython.org) and their solutions. Then as practice, pick 3 exercises and solve them in this notebook below. You will be asked next week to solve an exercise in class. \n",
    "\n"
   ]
  },
  {
   "cell_type": "markdown",
   "metadata": {},
   "source": [
    "### 1. Exercise (#15) "
   ]
  },
  {
   "cell_type": "code",
   "execution_count": 1,
   "metadata": {
    "collapsed": true,
    "scrolled": true
   },
   "outputs": [],
   "source": [
    "def reverse_str():\n",
    "    orig_str = input('Type a sentence here: ')\n",
    "    orig_list = orig_str.split(' ')\n",
    "    orig_list.reverse()\n",
    "    back_str = ' '.join(orig_list)\n",
    "    print(\"This is your sentence backwards: \", back_str)"
   ]
  },
  {
   "cell_type": "code",
   "execution_count": 2,
   "metadata": {},
   "outputs": [
    {
     "name": "stdout",
     "output_type": "stream",
     "text": [
      "Type a sentence here: jhgl ytu xgfd nvjhg\n",
      "This is your sentence backwards:  nvjhg xgfd ytu jhgl\n"
     ]
    }
   ],
   "source": [
    "reverse_str()"
   ]
  },
  {
   "cell_type": "markdown",
   "metadata": {},
   "source": [
    "### 2. Exercise (#13) "
   ]
  },
  {
   "cell_type": "code",
   "execution_count": 4,
   "metadata": {
    "collapsed": true
   },
   "outputs": [],
   "source": [
    "def fibonacci():\n",
    "    num = int(input('How many Fibonacci numbers would you like to generate? '))\n",
    "    add1 = 1\n",
    "    sequence = [1]\n",
    "    for i in range(num-1):\n",
    "        sequence.append(add1)\n",
    "        add1 = sequence[i] + sequence[i+1]\n",
    "    print (sequence)"
   ]
  },
  {
   "cell_type": "code",
   "execution_count": 13,
   "metadata": {},
   "outputs": [
    {
     "name": "stdout",
     "output_type": "stream",
     "text": [
      "How many Fibonacci numbers would you like to generate? 9\n",
      "[1, 1, 2, 3, 5, 8, 13, 21, 34]\n"
     ]
    }
   ],
   "source": [
    "fibonacci()"
   ]
  },
  {
   "cell_type": "markdown",
   "metadata": {},
   "source": [
    "### 3. Exercise (#8) "
   ]
  },
  {
   "cell_type": "code",
   "execution_count": 1,
   "metadata": {
    "collapsed": true
   },
   "outputs": [],
   "source": [
    "def rock_paper_scissors():\n",
    "    play_again = 'Y'\n",
    "    while play_again == 'Y':\n",
    "        player1 = input('Player 1, choose rock, paper or scissors: ')\n",
    "        player2 = input('Player 2, choose rock, paper or scissors: ')\n",
    "        player1 = player1.strip()\n",
    "        player1 = player1.lower()\n",
    "        player2 = player2.strip()\n",
    "        player2 = player2.lower()\n",
    "        if player1 == player2:\n",
    "            print ('The result is a tie')\n",
    "        elif player1 == 'rock':\n",
    "            if player2 == 'paper':\n",
    "                print ('Player 2 wins!')\n",
    "            else:\n",
    "                print ('Player 1 wins!')\n",
    "        elif player1 == 'paper':\n",
    "            if player2 == 'rock':\n",
    "                print ('Player 1 wins!')\n",
    "            else:\n",
    "                print ('Player 2 wins!')\n",
    "        elif player1 == 'scissors':\n",
    "            if player2 == 'rock':\n",
    "                print ('Player 2 wins!')\n",
    "            else:\n",
    "                print ('Player 1 wins!')\n",
    "        else:\n",
    "            print ('Invalid input')\n",
    "        play_again = input('Would you like to play again? Y/N: ')\n",
    "        if play_again != 'Y':\n",
    "            print ('See ya later!')"
   ]
  },
  {
   "cell_type": "code",
   "execution_count": 2,
   "metadata": {},
   "outputs": [
    {
     "name": "stdout",
     "output_type": "stream",
     "text": [
      "Player 1, choose rock, paper or scissors: ScissOrs   \n",
      "Player 2, choose rock, paper or scissors:    RoCk\n",
      "Player 2 wins!\n",
      "Would you like to play again? Y/N: N\n",
      "See ya later!\n"
     ]
    }
   ],
   "source": [
    "rock_paper_scissors()"
   ]
  },
  {
   "cell_type": "markdown",
   "metadata": {},
   "source": [
    "### Test Yourself\n",
    "\n",
    "Write a function that takes in a string and determines the number of unique words (ignoring capitalization and punctuation) and returns an dictionary where the key of each entry is the word and the value is the number of times the word appears in the string. Demonstrate that your function works by applying it to the introduction paragraph above."
   ]
  },
  {
   "cell_type": "code",
   "execution_count": 1,
   "metadata": {
    "collapsed": true
   },
   "outputs": [],
   "source": [
    "def unique_words():\n",
    "    orig_str = input('Insert a string: ')\n",
    "    low_str = orig_str.lower()\n",
    "    char_list = list(low_str)\n",
    "    length1 = len(char_list)\n",
    "    alpha = 'qwertyuiopasdfghjklzxcvbnm '\n",
    "    alpha_list = list(alpha)\n",
    "    new_list = []\n",
    "    for i in range(length1):\n",
    "        condition = 'false'\n",
    "        char = char_list[i]\n",
    "        for j in range(27):\n",
    "            if char == alpha_list[j]:\n",
    "                condition = 'true'\n",
    "                new_list.append(char)\n",
    "                break\n",
    "    new_str = ''.join(new_list)\n",
    "    word_list = new_str.split(' ')\n",
    "    length2 = len(word_list)\n",
    "    for k in range(length2):\n",
    "        word = word_list[0]\n",
    "        amount = word_list.count(word)\n",
    "        print ('%20s' % word + ': %d' % amount)\n",
    "        if amount > 1:\n",
    "            for l in range(amount):\n",
    "                word_list.remove(word)\n",
    "        else:\n",
    "            word_list.remove(word)\n",
    "        if len(word_list) == 0:\n",
    "            break"
   ]
  },
  {
   "cell_type": "code",
   "execution_count": 1,
   "metadata": {},
   "outputs": [
    {
     "ename": "NameError",
     "evalue": "name 'unique_words' is not defined",
     "output_type": "error",
     "traceback": [
      "\u001b[0;31m---------------------------------------------------------------------------\u001b[0m",
      "\u001b[0;31mNameError\u001b[0m                                 Traceback (most recent call last)",
      "\u001b[0;32m<ipython-input-1-9323f35c5ce8>\u001b[0m in \u001b[0;36m<module>\u001b[0;34m()\u001b[0m\n\u001b[0;32m----> 1\u001b[0;31m \u001b[0munique_words\u001b[0m\u001b[0;34m(\u001b[0m\u001b[0;34m)\u001b[0m\u001b[0;34m\u001b[0m\u001b[0m\n\u001b[0m",
      "\u001b[0;31mNameError\u001b[0m: name 'unique_words' is not defined"
     ]
    }
   ],
   "source": [
    "unique_words()"
   ]
  },
  {
   "cell_type": "code",
   "execution_count": 5,
   "metadata": {},
   "outputs": [],
   "source": [
    "def check_prime():\n",
    "    num = int(input('Insert a number: '))\n",
    "    is_prime = 'True'\n",
    "    for i in range(2,num):\n",
    "        if num%i == 0:\n",
    "            is_prime = 'False'\n",
    "            print ('%s is not a prime number.' % num)\n",
    "            break\n",
    "    if num <= 1:\n",
    "        is_prime = 'False'\n",
    "        print('%s is not a prime number.' % num)\n",
    "    if is_prime == 'True':\n",
    "        print ('%s is a prime number.' % num)"
   ]
  },
  {
   "cell_type": "code",
   "execution_count": 7,
   "metadata": {},
   "outputs": [
    {
     "name": "stdout",
     "output_type": "stream",
     "text": [
      "Insert a number: 59\n",
      "59 is a prime number.\n"
     ]
    }
   ],
   "source": [
    "check_prime()"
   ]
  },
  {
   "cell_type": "code",
   "execution_count": null,
   "metadata": {
    "collapsed": true
   },
   "outputs": [],
   "source": []
  }
 ],
 "metadata": {
  "kernelspec": {
   "display_name": "Python 3",
   "language": "python",
   "name": "python3"
  },
  "language_info": {
   "codemirror_mode": {
    "name": "ipython",
    "version": 3
   },
   "file_extension": ".py",
   "mimetype": "text/x-python",
   "name": "python",
   "nbconvert_exporter": "python",
   "pygments_lexer": "ipython3",
   "version": "3.5.2"
  }
 },
 "nbformat": 4,
 "nbformat_minor": 2
}
