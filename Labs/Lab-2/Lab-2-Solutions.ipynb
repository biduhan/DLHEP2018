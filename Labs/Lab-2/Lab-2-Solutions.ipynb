{
 "cells": [
  {
   "cell_type": "markdown",
   "metadata": {},
   "source": [
    "# Lab 2- Numpy\n",
    "\n",
    "Read through the following notebook to get an introduction to numpy: [Numpy Intro](jrjohansson-lectures/Lecture-2-Numpy.ipynb)"
   ]
  },
  {
   "cell_type": "markdown",
   "metadata": {},
   "source": [
    "## Exercise 2.1\n",
    "\n",
    "Let start with some basic reshape manipulations. Consider a classification task. We can imagine the training data X consisting of N examples each with M inputs, so the shape of X is (M,N). We usually express the output of the Neural Network, which for the training sample encodes the true class of each of the M examples in X, in a \"one-hot\" matrix of shape (N,C), where C is the number of classes and each row corresponds to the true class for the corresponding example in X. So for a given row Y[i], all elements are 0 except for the column corresponding to the true class.\n",
    "\n",
    "For example consider a classification task of separating between 4 classes. We'll call them A, B, C, and D.\n"
   ]
  },
  {
   "cell_type": "code",
   "execution_count": 3,
   "metadata": {},
   "outputs": [
    {
     "name": "stdout",
     "output_type": "stream",
     "text": [
      "Shape of Y: (4, 4)\n"
     ]
    }
   ],
   "source": [
    "import numpy as np\n",
    "\n",
    "Y=np.array( [ [0, 1, 0, 0], # Class B\n",
    "              [1, 0, 0, 0], # Class A\n",
    "              [0, 0, 1, 0], # Class C\n",
    "              [0, 0, 0, 1]  # Class D\n",
    "            ])\n",
    "\n",
    "print \"Shape of Y:\", Y.shape"
   ]
  },
  {
   "cell_type": "markdown",
   "metadata": {},
   "source": [
    "Lets imagine that we want to change to a 2 classes instead by combining classes A with B and C with D. Use np.reshape and np.sum to create a new vector Y1. Hint: change the shape of Y into (8,2), sum along the correct axes, and change shape to (4,2)."
   ]
  },
  {
   "cell_type": "code",
   "execution_count": 4,
   "metadata": {},
   "outputs": [
    {
     "name": "stdout",
     "output_type": "stream",
     "text": [
      "[[1 0]\n",
      " [1 0]\n",
      " [0 1]\n",
      " [0 1]]\n"
     ]
    }
   ],
   "source": [
    "#Y1= Y # Replace Y with operations on Y which result in the requested answer. \n",
    "\n",
    "Y1 = np.reshape(Y, (8,2))\n",
    "Y1 = np.sum(Y1, axis = 1)\n",
    "Y1 = np.reshape(Y1, (4,2))\n",
    "print Y1\n"
   ]
  },
  {
   "cell_type": "markdown",
   "metadata": {},
   "source": [
    "## Exercise 2.2\n",
    "\n",
    "Oftentimes we find that neutral networks work best when their input is mostly between 0,1. Below, we create a random dataset that is normal distributed (mean of 4, sigma of 10). Shift the data so that the mean is 0.5 and 68% of the data lies between 0 and 1."
   ]
  },
  {
   "cell_type": "code",
   "execution_count": 5,
   "metadata": {},
   "outputs": [
    {
     "name": "stdout",
     "output_type": "stream",
     "text": [
      "4.21414303669\n",
      "-29.914494204\n",
      "41.2006876759\n"
     ]
    }
   ],
   "source": [
    "X=np.random.normal(4,10,1000)\n",
    "print np.mean(X)\n",
    "print np.min(X)\n",
    "print np.max(X)"
   ]
  },
  {
   "cell_type": "code",
   "execution_count": 6,
   "metadata": {},
   "outputs": [
    {
     "name": "stdout",
     "output_type": "stream",
     "text": [
      "0.510707151834\n"
     ]
    }
   ],
   "source": [
    "X1 = X\n",
    "for i in range(1000):\n",
    "    X1[i] = (X1[i]+6)/20 #add min, divide by range\n",
    "print np.mean(X1)"
   ]
  },
  {
   "cell_type": "markdown",
   "metadata": {},
   "source": [
    "## Exercise 2.3\n",
    "\n",
    "Using np.random.random and np.random.normal to generate two datasets. Then use np.where to repeat exercise 1.4 showing that one creates a flat distribution and the other does not. "
   ]
  },
  {
   "cell_type": "code",
   "execution_count": 7,
   "metadata": {
    "scrolled": true
   },
   "outputs": [
    {
     "name": "stdout",
     "output_type": "stream",
     "text": [
      "Number of Entries passing N1: 260\n",
      "Number of Entries passing N2: 231\n",
      "Number of Entries passing N3: 239\n",
      "Number of Entries passing N4: 270\n",
      "Number of Entries passing P1: 297\n",
      "Number of Entries passing P2: 207\n",
      "Number of Entries passing P3: 202\n",
      "Number of Entries passing P4: 294\n"
     ]
    }
   ],
   "source": [
    "A1 = np.random.random((1000))\n",
    "A2 = np.random.normal(0.5,0.5,1000)\n",
    "\n",
    "N1 = np.where(A1<0.25)\n",
    "N4 = np.where(A1>0.75)\n",
    "c1 = np.where(A1<0.5)\n",
    "N2 = np.setdiff1d(c1, N1)\n",
    "c2 = np.where(A1>0.5)\n",
    "N3 = np.setdiff1d(c2, N4)\n",
    "SN1 = np.size(N1)\n",
    "SN2 = np.size(N2)\n",
    "SN3 = np.size(N3)\n",
    "SN4 = np.size(N4)\n",
    "\n",
    "P1 = np.where(A2<0.25)\n",
    "P4 = np.where(A2>0.75)\n",
    "d1 = np.where(A2<0.5)\n",
    "P2 = np.setdiff1d(d1, P1)\n",
    "d2 = np.where(A2>0.5)\n",
    "P3 = np.setdiff1d(d2, P4)\n",
    "SP1 = np.size(P1)\n",
    "SP2 = np.size(P2)\n",
    "SP3 = np.size(P3)\n",
    "SP4 = np.size(P4)\n",
    "\n",
    "print \"Number of Entries passing N1:\", SN1\n",
    "print \"Number of Entries passing N2:\", SN2\n",
    "print \"Number of Entries passing N3:\", SN3\n",
    "print \"Number of Entries passing N4:\", SN4\n",
    "\n",
    "print \"Number of Entries passing P1:\", SP1\n",
    "print \"Number of Entries passing P2:\", SP2\n",
    "print \"Number of Entries passing P3:\", SP3\n",
    "print \"Number of Entries passing P4:\", SP4"
   ]
  },
  {
   "cell_type": "markdown",
   "metadata": {},
   "source": [
    "## Exercise 2.4\n",
    "\n",
    "Now lets play with some real data. We will load a file of example Neutrino interactions in LArTPC detector. There are 2 read out planes in the detector with 240 wires each, sampled 4096 times. Shift the images in the same way as exercise 2.2."
   ]
  },
  {
   "cell_type": "code",
   "execution_count": 8,
   "metadata": {},
   "outputs": [
    {
     "name": "stdout",
     "output_type": "stream",
     "text": [
      "[u'Eng', u'Track_length', u'enu_truth', u'features', u'lep_mom_truth', u'mode_truth', u'pdg']\n",
      "(2500, 2, 240, 4096)\n"
     ]
    }
   ],
   "source": [
    "import h5py\n",
    "f=h5py.File(\"/data/LArIAT/h5_files/nue_CC_3-1469384613.h5\",\"r\")\n",
    "print f.keys()\n",
    "images=f[\"features\"] #interested in features\n",
    "print images.shape"
   ]
  },
  {
   "cell_type": "code",
   "execution_count": 9,
   "metadata": {},
   "outputs": [
    {
     "name": "stdout",
     "output_type": "stream",
     "text": [
      "[[[ 0.  0.  0. ...,  0.  0.  0.]\n",
      "  [ 0.  0.  0. ...,  0.  0.  0.]\n",
      "  [ 0. -1. -1. ...,  0.  0.  0.]\n",
      "  ..., \n",
      "  [ 0.  1.  1. ...,  0.  0.  0.]\n",
      "  [ 0.  0.  0. ...,  0.  0.  0.]\n",
      "  [ 0.  0.  0. ...,  0.  0.  0.]]\n",
      "\n",
      " [[ 0.  0.  0. ...,  0.  0.  0.]\n",
      "  [-1. -1.  0. ..., -1. -1. -1.]\n",
      "  [ 0.  0.  0. ...,  0.  0.  0.]\n",
      "  ..., \n",
      "  [-1. -1. -1. ..., -1. -1. -1.]\n",
      "  [ 0.  0.  0. ...,  0.  0.  0.]\n",
      "  [ 0.  0.  0. ...,  0.  0.  0.]]]\n",
      "done\n"
     ]
    }
   ],
   "source": [
    "print images[0]\n",
    "\n",
    "imagmin = np.min(images)\n",
    "imagmax = np.max(images)\n",
    "imagrange = imagmax - imagmin\n",
    "normal_images = (images - imagmin)/imagrange\n",
    "                \n",
    "print \"done\""
   ]
  },
  {
   "cell_type": "code",
   "execution_count": null,
   "metadata": {
    "collapsed": true
   },
   "outputs": [],
   "source": []
  }
 ],
 "metadata": {
  "kernelspec": {
   "display_name": "Python 2",
   "language": "python",
   "name": "python2"
  },
  "language_info": {
   "codemirror_mode": {
    "name": "ipython",
    "version": 2
   },
   "file_extension": ".py",
   "mimetype": "text/x-python",
   "name": "python",
   "nbconvert_exporter": "python",
   "pygments_lexer": "ipython2",
   "version": "2.7.12"
  }
 },
 "nbformat": 4,
 "nbformat_minor": 2
}
